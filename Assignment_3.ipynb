{
 "cells": [
  {
   "cell_type": "markdown",
   "id": "d339befd-95e8-42e8-8fb0-37b060029b2d",
   "metadata": {},
   "source": [
    "# Task 1 :  Working with Series"
   ]
  },
  {
   "cell_type": "code",
   "execution_count": 13,
   "id": "fda3a658-dfc1-403a-a826-daa3af36705d",
   "metadata": {},
   "outputs": [
    {
     "name": "stdout",
     "output_type": "stream",
     "text": [
      "First 3 elements:\n",
      " A    25\n",
      "B    30\n",
      "C    35\n",
      "dtype: int64\n",
      "Mean: 35.0\n",
      "Median: 35.0\n",
      "Standard Deviation: 7.905694150420948\n"
     ]
    }
   ],
   "source": [
    "import pandas as pd\n",
    "\n",
    "data = pd.Series([25, 30, 35, 40, 45], index=['A', 'B', 'C', 'D', 'E'])\n",
    "\n",
    "print(\"First 3 elements:\\n\", data.head(3))\n",
    "print(\"Mean:\", data.mean())\n",
    "print(\"Median:\", data.median())\n",
    "print(\"Standard Deviation:\", data.std())\n"
   ]
  },
  {
   "cell_type": "markdown",
   "id": "5da936df-5680-4513-a42e-35c43f817c80",
   "metadata": {},
   "source": [
    "# Task 2 : Creating and Inspecting DataFrames"
   ]
  },
  {
   "cell_type": "code",
   "execution_count": 14,
   "id": "46e51096-2d1c-4fe1-9818-0ac30328ecf0",
   "metadata": {},
   "outputs": [
    {
     "name": "stdout",
     "output_type": "stream",
     "text": [
      "First 2 rows:\n",
      "     Name  Age  Gender  Marks\n",
      "0  Alice   20  Female     85\n",
      "1    Bob   22    Male     78\n",
      "Columns: Index(['Name', 'Age', 'Gender', 'Marks'], dtype='object')\n",
      "Data types:\n",
      " Name      object\n",
      "Age        int64\n",
      "Gender    object\n",
      "Marks      int64\n",
      "dtype: object\n",
      "Summary stats:\n",
      "              Age      Marks\n",
      "count   5.000000   5.000000\n",
      "mean   20.400000  83.400000\n",
      "std     1.140175   7.334848\n",
      "min    19.000000  74.000000\n",
      "25%    20.000000  78.000000\n",
      "50%    20.000000  85.000000\n",
      "75%    21.000000  88.000000\n",
      "max    22.000000  92.000000\n"
     ]
    }
   ],
   "source": [
    "df = pd.DataFrame({\n",
    "    'Name': ['Alice', 'Bob', 'Carol', 'David', 'Eve'],\n",
    "    'Age': [20, 22, 19, 21, 20],\n",
    "    'Gender': ['Female', 'Male', 'Female', 'Male', 'Female'],\n",
    "    'Marks': [85, 78, 92, 74, 88]\n",
    "})\n",
    "\n",
    "print(\"First 2 rows:\\n\", df.head(2))\n",
    "print(\"Columns:\", df.columns)\n",
    "print(\"Data types:\\n\", df.dtypes)\n",
    "print(\"Summary stats:\\n\", df.describe())\n",
    "\n",
    "df['Passed'] = df['Marks'] >= 80\n"
   ]
  },
  {
   "cell_type": "markdown",
   "id": "0ea27d8d-4309-41d3-ab40-214ff5222b88",
   "metadata": {},
   "source": [
    "# Task 3 : Data Selection and Filtering "
   ]
  },
  {
   "cell_type": "code",
   "execution_count": 16,
   "id": "2b041ba3-e03e-4188-b8b1-e1cb2779ffa7",
   "metadata": {},
   "outputs": [
    {
     "name": "stdout",
     "output_type": "stream",
     "text": [
      "Name and Marks:\n",
      "     Name  Marks\n",
      "0  Alice     85\n",
      "1    Bob     78\n",
      "2  Carol     92\n",
      "3  David     74\n",
      "4    Eve     88\n",
      "Students with Marks > 80:\n",
      "     Name  Age  Gender  Marks  Passed\n",
      "0  Alice   20  Female     85    True\n",
      "2  Carol   19  Female     92    True\n",
      "4    Eve   20  Female     88    True\n",
      "Student with highest Marks:\n",
      "     Name  Age  Gender  Marks  Passed\n",
      "2  Carol   19  Female     92    True\n"
     ]
    }
   ],
   "source": [
    "print(\"Name and Marks:\\n\", df[['Name', 'Marks']])\n",
    "\n",
    "print(\"Students with Marks > 80:\\n\", df[df['Marks'] > 80])\n",
    "\n",
    "print(\"Student with highest Marks:\\n\", df[df['Marks'] == df['Marks'].max()])\n"
   ]
  },
  {
   "cell_type": "markdown",
   "id": "b307794c-bb80-488f-849f-64878fd7d026",
   "metadata": {},
   "source": [
    "# Task 4 : Handling Missing Data "
   ]
  },
  {
   "cell_type": "code",
   "execution_count": 17,
   "id": "e2551998-d5a6-414b-9ccd-f0d06cb24643",
   "metadata": {},
   "outputs": [
    {
     "name": "stdout",
     "output_type": "stream",
     "text": [
      "Missing values:\n",
      "     Name    Age  Gender  Marks  Passed\n",
      "0  False  False   False  False   False\n",
      "1  False  False   False   True   False\n",
      "2  False  False   False  False   False\n",
      "3  False  False   False  False   False\n",
      "4  False   True   False  False   False\n"
     ]
    },
    {
     "name": "stderr",
     "output_type": "stream",
     "text": [
      "C:\\Users\\DELL\\AppData\\Local\\Temp\\ipykernel_16712\\3636479413.py:6: FutureWarning: A value is trying to be set on a copy of a DataFrame or Series through chained assignment using an inplace method.\n",
      "The behavior will change in pandas 3.0. This inplace method will never work because the intermediate object on which we are setting values always behaves as a copy.\n",
      "\n",
      "For example, when doing 'df[col].method(value, inplace=True)', try using 'df.method({col: value}, inplace=True)' or df[col] = df[col].method(value) instead, to perform the operation inplace on the original object.\n",
      "\n",
      "\n",
      "  df['Marks'].fillna(df['Marks'].mean(), inplace=True)\n"
     ]
    }
   ],
   "source": [
    "df.loc[1, 'Marks'] = None\n",
    "df.loc[4, 'Age'] = None\n",
    "\n",
    "print(\"Missing values:\\n\", df.isnull())\n",
    "\n",
    "df['Marks'].fillna(df['Marks'].mean(), inplace=True)\n",
    "df.dropna(subset=['Age'], inplace=True)\n"
   ]
  },
  {
   "cell_type": "markdown",
   "id": "3b0cfb88-0d2d-477c-bd50-67deee52f926",
   "metadata": {},
   "source": [
    "# Task 5 : Grouping and Aggregation "
   ]
  },
  {
   "cell_type": "code",
   "execution_count": 18,
   "id": "da254833-b3a5-4b82-9786-cd66a6f1ec8f",
   "metadata": {},
   "outputs": [
    {
     "name": "stdout",
     "output_type": "stream",
     "text": [
      "Group by Gender (mean age and marks):\n",
      "          Age   Marks\n",
      "Gender              \n",
      "Female  19.5  88.500\n",
      "Male    21.5  79.375\n",
      "Student count by Gender:\n",
      " Gender\n",
      "Female    2\n",
      "Male      2\n",
      "Name: count, dtype: int64\n"
     ]
    }
   ],
   "source": [
    "print(\"Group by Gender (mean age and marks):\\n\", df.groupby('Gender')[['Age', 'Marks']].mean())\n",
    "\n",
    "print(\"Student count by Gender:\\n\", df['Gender'].value_counts())\n"
   ]
  },
  {
   "cell_type": "markdown",
   "id": "8a7c16d4-f59b-4c71-ab81-bc25122bac10",
   "metadata": {},
   "source": [
    "# Task 6 : Reading and Writing Data "
   ]
  },
  {
   "cell_type": "code",
   "execution_count": 20,
   "id": "7754468c-26df-4cd0-b533-d1ab95b40ce0",
   "metadata": {},
   "outputs": [
    {
     "name": "stdout",
     "output_type": "stream",
     "text": [
      "First 5 rows of loaded data:\n",
      "     Name   Age  Gender  Marks  Passed\n",
      "0  Alice  20.0  Female  85.00    True\n",
      "1    Bob  22.0    Male  84.75   False\n",
      "2  Carol  19.0  Female  92.00    True\n",
      "3  David  21.0    Male  74.00   False\n"
     ]
    }
   ],
   "source": [
    "df.to_csv('students_data.csv', index=False)\n",
    "\n",
    "new_df = pd.read_csv('students_data.csv')\n",
    "print(\"First 5 rows of loaded data:\\n\", new_df.head())\n"
   ]
  },
  {
   "cell_type": "markdown",
   "id": "5facb510-176c-450a-a51f-c127afacf143",
   "metadata": {},
   "source": [
    "# Task 7 :  General "
   ]
  },
  {
   "cell_type": "code",
   "execution_count": 22,
   "id": "f5728c61-20a1-4a61-873e-cbd3d23b4b5e",
   "metadata": {},
   "outputs": [
    {
     "name": "stdout",
     "output_type": "stream",
     "text": [
      "<class 'pandas.core.frame.DataFrame'>\n",
      "RangeIndex: 244 entries, 0 to 243\n",
      "Data columns (total 7 columns):\n",
      " #   Column      Non-Null Count  Dtype   \n",
      "---  ------      --------------  -----   \n",
      " 0   total_bill  244 non-null    float64 \n",
      " 1   tip         244 non-null    float64 \n",
      " 2   sex         244 non-null    category\n",
      " 3   smoker      244 non-null    category\n",
      " 4   day         244 non-null    category\n",
      " 5   time        244 non-null    category\n",
      " 6   size        244 non-null    int64   \n",
      "dtypes: category(4), float64(2), int64(1)\n",
      "memory usage: 7.4 KB\n",
      "None\n",
      "       total_bill         tip        size\n",
      "count  244.000000  244.000000  244.000000\n",
      "mean    19.785943    2.998279    2.569672\n",
      "std      8.902412    1.383638    0.951100\n",
      "min      3.070000    1.000000    1.000000\n",
      "25%     13.347500    2.000000    2.000000\n",
      "50%     17.795000    2.900000    2.000000\n",
      "75%     24.127500    3.562500    3.000000\n",
      "max     50.810000   10.000000    6.000000\n",
      "Missing values:\n",
      " total_bill    0\n",
      "tip           0\n",
      "sex           0\n",
      "smoker        0\n",
      "day           0\n",
      "time          0\n",
      "size          0\n",
      "dtype: int64\n"
     ]
    },
    {
     "data": {
      "image/png": "[encoded data removed]",
      "text/plain": [
       "<Figure size 640x480 with 1 Axes>"
      ]
     },
     "metadata": {},
     "output_type": "display_data"
    },
    {
     "data": {
      "image/png": "[encoded data removed]",
      "text/plain": [
       "<Figure size 640x480 with 1 Axes>"
      ]
     },
     "metadata": {},
     "output_type": "display_data"
    }
   ],
   "source": [
    "\n",
    "import seaborn as sns\n",
    "import matplotlib.pyplot as plt\n",
    "\n",
    "tips = sns.load_dataset('tips')\n",
    "\n",
    "print(tips.info())\n",
    "print(tips.describe())\n",
    "print(\"Missing values:\\n\", tips.isnull().sum())\n",
    "\n",
    "sns.histplot(tips['total_bill'])\n",
    "plt.title(\"Total Bill Distribution\")\n",
    "plt.show()\n",
    "\n",
    "sns.boxplot(x='day', y='total_bill', data=tips)\n",
    "plt.title(\"Total Bill by Day\")\n",
    "plt.show()\n"
   ]
  },
  {
   "cell_type": "code",
   "execution_count": null,
   "id": "88650824-489e-4675-9fd9-438d5a96de13",
   "metadata": {},
   "outputs": [],
   "source": []
  }
 ],
 "metadata": {
  "kernelspec": {
   "display_name": "Python 3 (ipykernel)",
   "language": "python",
   "name": "python3"
  },
  "language_info": {
   "codemirror_mode": {
    "name": "ipython",
    "version": 3
   },
   "file_extension": ".py",
   "mimetype": "text/x-python",
   "name": "python",
   "nbconvert_exporter": "python",
   "pygments_lexer": "ipython3",
   "version": "3.12.0"
  }
 },
 "nbformat": 4,
 "nbformat_minor": 5
}
