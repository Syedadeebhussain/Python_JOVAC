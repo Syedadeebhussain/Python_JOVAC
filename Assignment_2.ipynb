{
 "cells": [
  {
   "cell_type": "markdown",
   "id": "afdaefd5-2ed8-4f77-92df-a7664742e9d2",
   "metadata": {},
   "source": [
    "# Task 1 : Creating Arrays "
   ]
  },
  {
   "cell_type": "code",
   "execution_count": 6,
   "id": "baf5b231-56f1-4fcf-88a7-0347531db115",
   "metadata": {},
   "outputs": [
    {
     "name": "stdout",
     "output_type": "stream",
     "text": [
      "Shape: (10,) Size: 10 Data type: int32\n",
      "Shape: (3, 3) Size: 9 Data type: int32\n",
      "Shape: (3, 5, 3) Size: 45 Data type: float64\n"
     ]
    }
   ],
   "source": [
    "import numpy as np\n",
    "\n",
    "\n",
    "array_1d = np.arange(1, 11)\n",
    "\n",
    "\n",
    "array_2d = np.arange(1, 10).reshape(3, 3)\n",
    "\n",
    "\n",
    "array_3d = np.random.rand(3, 5, 3)\n",
    "\n",
    "\n",
    "for arr in [array_1d, array_2d, array_3d]:\n",
    "    print(\"Shape:\", arr.shape, \"Size:\", arr.size, \"Data type:\", arr.dtype)\n"
   ]
  },
  {
   "cell_type": "markdown",
   "id": "a7195d8e-946c-401b-93cf-b664c128bac1",
   "metadata": {},
   "source": [
    "# Task 2 : Array Indexing and Slicing"
   ]
  },
  {
   "cell_type": "code",
   "execution_count": 7,
   "id": "5753f34a-9f44-45f4-b3e4-1e2f414ca474",
   "metadata": {},
   "outputs": [
    {
     "name": "stdout",
     "output_type": "stream",
     "text": [
      "First 3 elements: [10 20 30]\n",
      "Every alternate element: [10 30 50 70 90]\n",
      "Reversed array: [90 80 70 60 50 40 30 20 10]\n"
     ]
    }
   ],
   "source": [
    "data = np.array([10, 20, 30, 40, 50, 60, 70, 80, 90])\n",
    "\n",
    "print(\"First 3 elements:\", data[:3])\n",
    "print(\"Every alternate element:\", data[::2])\n",
    "print(\"Reversed array:\", data[::-1])\n"
   ]
  },
  {
   "cell_type": "markdown",
   "id": "9b202ae0-12cb-44cd-a15d-05b6a9e186fa",
   "metadata": {},
   "source": [
    "# Task 3 : Mathematical Operations "
   ]
  },
  {
   "cell_type": "code",
   "execution_count": 8,
   "id": "2a8b3b21-76b7-4c46-a645-b1785827761d",
   "metadata": {},
   "outputs": [
    {
     "name": "stdout",
     "output_type": "stream",
     "text": [
      "A + B: [25 34 22 18 17]\n",
      "A - B: [  9  -2 -18  16   9]\n",
      "A * B: [136 288  40  17  52]\n",
      "A / B: [ 2.125       0.88888889  0.1        17.          3.25      ]\n",
      "Dot product: 533\n",
      "Mean of A: 13.0\n",
      "Median of A: 16.0\n",
      "Standard Deviation of A: 5.692099788303083\n",
      "Variance of A: 32.4\n",
      "Max of B: 20 at index 2\n",
      "Min of B: 1 at index 3\n"
     ]
    }
   ],
   "source": [
    "A = np.random.randint(1, 21, 5)\n",
    "B = np.random.randint(1, 21, 5)\n",
    "\n",
    "print(\"A + B:\", A + B)\n",
    "print(\"A - B:\", A - B)\n",
    "print(\"A * B:\", A * B)\n",
    "print(\"A / B:\", A / B)\n",
    "\n",
    "print(\"Dot product:\", np.dot(A, B))\n",
    "\n",
    "print(\"Mean of A:\", np.mean(A))\n",
    "print(\"Median of A:\", np.median(A))\n",
    "print(\"Standard Deviation of A:\", np.std(A))\n",
    "print(\"Variance of A:\", np.var(A))\n",
    "\n",
    "print(\"Max of B:\", np.max(B), \"at index\", np.argmax(B))\n",
    "print(\"Min of B:\", np.min(B), \"at index\", np.argmin(B))\n"
   ]
  },
  {
   "cell_type": "markdown",
   "id": "6df24d13-c72c-4f3d-b336-f5100410dee9",
   "metadata": {},
   "source": [
    "# Task 4 : Reshaping and Transposing "
   ]
  },
  {
   "cell_type": "code",
   "execution_count": 10,
   "id": "0c59fe27-b291-4d7a-9eec-d41070724bf9",
   "metadata": {},
   "outputs": [
    {
     "name": "stdout",
     "output_type": "stream",
     "text": [
      "2D shape: (4, 3)\n",
      "3D shape: (2, 2, 3)\n",
      "Transposed shape: (3, 4)\n"
     ]
    }
   ],
   "source": [
    "arr = np.arange(1, 13)\n",
    "\n",
    "arr_2d = arr.reshape(4, 3)\n",
    "arr_3d = arr.reshape(2, 2, 3)\n",
    "arr_transposed = arr_2d.T\n",
    "\n",
    "print(\"2D shape:\", arr_2d.shape)\n",
    "print(\"3D shape:\", arr_3d.shape)\n",
    "print(\"Transposed shape:\", arr_transposed.shape)\n"
   ]
  },
  {
   "cell_type": "markdown",
   "id": "99929e19-34f3-4d81-8e2e-ef39cd92e0fe",
   "metadata": {},
   "source": [
    "# Task 5 : Boolean Masking and Filtering "
   ]
  },
  {
   "cell_type": "code",
   "execution_count": 11,
   "id": "6a41ba86-540e-4d33-a121-f43bb23ace94",
   "metadata": {},
   "outputs": [
    {
     "name": "stdout",
     "output_type": "stream",
     "text": [
      "Elements > 25: [38 49 36 39 32 34 34]\n",
      "Replaced <30 with 0: [ 0  0 38  0  0 49 36 39 32  0  0 34  0  0 34]\n",
      "Count of elements divisible by 5: 8\n"
     ]
    }
   ],
   "source": [
    "data = np.random.randint(10, 51, 15)\n",
    "\n",
    "print(\"Elements > 25:\", data[data > 25])\n",
    "\n",
    "data[data < 30] = 0\n",
    "print(\"Replaced <30 with 0:\", data)\n",
    "\n",
    "count_div_5 = np.sum(data % 5 == 0)\n",
    "print(\"Count of elements divisible by 5:\", count_div_5)\n"
   ]
  },
  {
   "cell_type": "markdown",
   "id": "5f990d52-429d-4e05-8a15-10e9f4b907f8",
   "metadata": {},
   "source": [
    "# Task 6: Working with Built-in Functions"
   ]
  },
  {
   "cell_type": "code",
   "execution_count": 12,
   "id": "836a0706-e2b3-4b6c-9300-c8b66ac26402",
   "metadata": {},
   "outputs": [
    {
     "name": "stdout",
     "output_type": "stream",
     "text": [
      "Equally spaced: [0.         0.11111111 0.22222222 0.33333333 0.44444444 0.55555556\n",
      " 0.66666667 0.77777778 0.88888889 1.        ]\n",
      "Identity matrix:\n",
      " [[1. 0. 0. 0.]\n",
      " [0. 1. 0. 0.]\n",
      " [0. 0. 1. 0.]\n",
      " [0. 0. 0. 1.]]\n",
      "Sorted array: [  8  12  18  21  23  24  25  27  30  45  51  62  66  68  74  74  79  79\n",
      "  98 100]\n",
      "Top 5 largest elements: [ 74  79  79  98 100]\n"
     ]
    }
   ],
   "source": [
    "linspace_array = np.linspace(0, 1, 10)\n",
    "print(\"Equally spaced:\", linspace_array)\n",
    "\n",
    "\n",
    "identity = np.eye(4)\n",
    "print(\"Identity matrix:\\n\", identity)\n",
    "\n",
    "\n",
    "rand_arr = np.random.randint(1, 101, 20)\n",
    "rand_arr.sort()\n",
    "print(\"Sorted array:\", rand_arr)\n",
    "print(\"Top 5 largest elements:\", rand_arr[-5:])\n"
   ]
  },
  {
   "cell_type": "markdown",
   "id": "a23ae11a-03d6-4f33-8c4b-88e75c312257",
   "metadata": {},
   "source": [
    "# Task 7 : Generic "
   ]
  },
  {
   "cell_type": "code",
   "execution_count": 1,
   "id": "8ec83e8e-ee95-40eb-9f8c-e666dd9986f1",
   "metadata": {},
   "outputs": [
    {
     "name": "stdout",
     "output_type": "stream",
     "text": [
      "Determinant: -2.416625295746526e+49\n",
      "Inverse calculated.\n",
      "Time taken: 0.03172612190246582 seconds\n"
     ]
    }
   ],
   "source": [
    "import numpy as np\n",
    "import time\n",
    "\n",
    "start = time.time()\n",
    "\n",
    "\n",
    "A = np.random.rand(100, 100)\n",
    "B = np.random.rand(100, 100)\n",
    "\n",
    "#\n",
    "C = A @ B\n",
    "\n",
    "\n",
    "det = np.linalg.det(C)\n",
    "print(\"Determinant:\", det)\n",
    "\n",
    "\n",
    "if np.abs(det) > 1e-10:  \n",
    "    inverse = np.linalg.inv(C)\n",
    "    print(\"Inverse calculated.\")\n",
    "else:\n",
    "    print(\"Matrix is not invertible.\")\n",
    "\n",
    "\n",
    "end = time.time()\n",
    "\n",
    "\n",
    "print(\"Time taken:\", end - start, \"seconds\")\n"
   ]
  },
  {
   "cell_type": "code",
   "execution_count": null,
   "id": "4a5718f5-3f0e-4530-9392-4d69531e0a52",
   "metadata": {},
   "outputs": [],
   "source": [
    "\n"
   ]
  },
  {
   "cell_type": "code",
   "execution_count": null,
   "id": "212ec2b3-382f-4a12-8a57-af0f86d18eed",
   "metadata": {},
   "outputs": [],
   "source": []
  }
 ],
 "metadata": {
  "kernelspec": {
   "display_name": "Python 3 (ipykernel)",
   "language": "python",
   "name": "python3"
  },
  "language_info": {
   "codemirror_mode": {
    "name": "ipython",
    "version": 3
   },
   "file_extension": ".py",
   "mimetype": "text/x-python",
   "name": "python",
   "nbconvert_exporter": "python",
   "pygments_lexer": "ipython3",
   "version": "3.12.0"
  }
 },
 "nbformat": 4,
 "nbformat_minor": 5
}
