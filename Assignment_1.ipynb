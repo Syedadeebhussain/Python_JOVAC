{
 "cells": [
  {
   "cell_type": "code",
   "execution_count": 1,
   "id": "c07bd790-8647-4ecd-8417-87a8e7ee890d",
   "metadata": {},
   "outputs": [
    {
     "name": "stdout",
     "output_type": "stream",
     "text": [
      "Successfully saved data to 'matrix_by_syed.csv'.\n",
      "Data retrieved from file:\n",
      "[1, 2, 3]\n",
      "[6, 5, 4]\n",
      "[7, 8, 9]\n"
     ]
    }
   ],
   "source": [
    "import csv\n",
    "\n",
    "class MatrixFormatException(Exception):\n",
    "    def __init__(self, msg=\"Matrix must be 2D and rectangular (same number of columns in each row)\"):\n",
    "        super().__init__(msg)\n",
    "\n",
    "data = [\n",
    "    [1, 2, 3],\n",
    "    [6, 5, 4],\n",
    "    [7, 8, 9]\n",
    "]\n",
    "\n",
    "def export_to_csv(data, file_path):\n",
    "    column_count = len(data[0])\n",
    "    for row in data:\n",
    "        if len(row) != column_count:\n",
    "            raise MatrixFormatException(\"Each row must contain the same number of elements.\")\n",
    "    \n",
    "    with open(file_path, mode='w', newline='') as file:\n",
    "        csv_writer = csv.writer(file)\n",
    "        csv_writer.writerows(data)\n",
    "    print(f\"Successfully saved data to '{file_path}'.\")\n",
    "\n",
    "def import_from_csv(file_path):\n",
    "    matrix = []\n",
    "    with open(file_path, mode='r') as file:\n",
    "        csv_reader = csv.reader(file)\n",
    "        for line in csv_reader:\n",
    "            matrix.append([int(value) for value in line])\n",
    "    return matrix\n",
    "\n",
    "file_name = \"matrix_by_syed.csv\"\n",
    "\n",
    "try:\n",
    "    export_to_csv(data, file_name)\n",
    "    loaded_data = import_from_csv(file_name)\n",
    "    print(\"Data retrieved from file:\")\n",
    "    for row in loaded_data:\n",
    "        print(row)\n",
    "\n",
    "except MatrixFormatException as error:\n",
    "    print(\"Matrix Format Issue:\", error)\n",
    "except Exception as error:\n",
    "    print(\"Something went wrong:\", error)\n",
    "\n"
   ]
  },
  {
   "cell_type": "code",
   "execution_count": null,
   "id": "a54c84a0-64a6-4aba-a801-99c592e9dbc0",
   "metadata": {},
   "outputs": [],
   "source": []
  }
 ],
 "metadata": {
  "kernelspec": {
   "display_name": "Python 3 (ipykernel)",
   "language": "python",
   "name": "python3"
  },
  "language_info": {
   "codemirror_mode": {
    "name": "ipython",
    "version": 3
   },
   "file_extension": ".py",
   "mimetype": "text/x-python",
   "name": "python",
   "nbconvert_exporter": "python",
   "pygments_lexer": "ipython3",
   "version": "3.12.0"
  }
 },
 "nbformat": 4,
 "nbformat_minor": 5
}
